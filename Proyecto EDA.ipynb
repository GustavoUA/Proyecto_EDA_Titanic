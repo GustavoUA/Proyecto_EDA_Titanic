{
 "cells": [
  {
   "cell_type": "markdown",
   "id": "e4840486-0ab9-4387-acf7-becaaa9b2702",
   "metadata": {},
   "source": [
    "# PROYECTO EDA"
   ]
  },
  {
   "cell_type": "markdown",
   "id": "83ec910b-24ce-453e-977d-b35b942a33f4",
   "metadata": {},
   "source": [
    "<b>Autor: Gustavo Ucar de Armas</b>"
   ]
  },
  {
   "cell_type": "markdown",
   "id": "ec9a4678-cf4b-4878-ab9a-e041c67a28d8",
   "metadata": {},
   "source": [
    "### importamos todas las librerias necesarias para poder realizar el proyecto."
   ]
  },
  {
   "cell_type": "code",
   "execution_count": 123,
   "id": "911896a0-8e89-4274-a43f-fafa57a72d6f",
   "metadata": {},
   "outputs": [],
   "source": [
    "import pandas as pd\n",
    "import collections\n",
    "import numpy as np\n",
    "import seaborn as sns\n",
    "import matplotlib.pyplot as plt\n",
    "\n",
    "#Importo la libreria warning porque me sale una advertencia con lo que\n",
    "#uso el filterwarnings para filtrar y ignorarla\n",
    "import warnings\n",
    "warnings.filterwarnings(\"ignore\", \"use_inf_as_na\")"
   ]
  },
  {
   "cell_type": "markdown",
   "id": "887b7cc8-bd57-4326-bc48-3f6ffad02e3f",
   "metadata": {},
   "source": [
    "<b> Un Análisis Exploratorio de Datos enfocándose especialmente en responder la siguiente pregunta de negocio ¿Qué factores están relacionados con que los pasajeros tengan una mayor/menor probabilidad de sobrevivir? </b>"
   ]
  },
  {
   "cell_type": "markdown",
   "id": "94b0905f-b979-4ded-9c46-7e28daa14e82",
   "metadata": {},
   "source": [
    "### Leemos el archivo para ver su contenido, ya sean numeros nulos y nombre de columnas y filas."
   ]
  },
  {
   "cell_type": "code",
   "execution_count": 124,
   "id": "d4fa6a3f-110a-4b57-a52e-132af4ab42bf",
   "metadata": {},
   "outputs": [
    {
     "name": "stdout",
     "output_type": "stream",
     "text": [
      "     PassengerId  Survived  Pclass  \\\n",
      "0              1         0       3   \n",
      "1              2         1       1   \n",
      "2              3         1       3   \n",
      "3              4         1       1   \n",
      "4              5         0       3   \n",
      "..           ...       ...     ...   \n",
      "886          887         0       2   \n",
      "887          888         1       1   \n",
      "888          889         0       3   \n",
      "889          890         1       1   \n",
      "890          891         0       3   \n",
      "\n",
      "                                                  Name     Sex   Age  SibSp  \\\n",
      "0                              Braund, Mr. Owen Harris    male  22.0      1   \n",
      "1    Cumings, Mrs. John Bradley (Florence Briggs Th...  female  38.0      1   \n",
      "2                               Heikkinen, Miss. Laina  female  26.0      0   \n",
      "3         Futrelle, Mrs. Jacques Heath (Lily May Peel)  female  35.0      1   \n",
      "4                             Allen, Mr. William Henry    male  35.0      0   \n",
      "..                                                 ...     ...   ...    ...   \n",
      "886                              Montvila, Rev. Juozas    male  27.0      0   \n",
      "887                       Graham, Miss. Margaret Edith  female  19.0      0   \n",
      "888           Johnston, Miss. Catherine Helen \"Carrie\"  female   NaN      1   \n",
      "889                              Behr, Mr. Karl Howell    male  26.0      0   \n",
      "890                                Dooley, Mr. Patrick    male  32.0      0   \n",
      "\n",
      "     Parch            Ticket     Fare Cabin Embarked  \n",
      "0        0         A/5 21171   7.2500   NaN        S  \n",
      "1        0          PC 17599  71.2833   C85        C  \n",
      "2        0  STON/O2. 3101282   7.9250   NaN        S  \n",
      "3        0            113803  53.1000  C123        S  \n",
      "4        0            373450   8.0500   NaN        S  \n",
      "..     ...               ...      ...   ...      ...  \n",
      "886      0            211536  13.0000   NaN        S  \n",
      "887      0            112053  30.0000   B42        S  \n",
      "888      2        W./C. 6607  23.4500   NaN        S  \n",
      "889      0            111369  30.0000  C148        C  \n",
      "890      0            370376   7.7500   NaN        Q  \n",
      "\n",
      "[891 rows x 12 columns]\n"
     ]
    }
   ],
   "source": [
    "db = pd.read_csv(\"titanic.csv\")\n",
    "\n",
    "print(db)"
   ]
  },
  {
   "cell_type": "markdown",
   "id": "8b70bd6b-83d9-4893-b101-e72f3b47020d",
   "metadata": {},
   "source": [
    "### Vemos el nombre de las columnas que tenemos para poder realizar el analisis"
   ]
  },
  {
   "cell_type": "code",
   "execution_count": 125,
   "id": "ac451460-1fc6-4ccf-9067-a55e4209d7e6",
   "metadata": {},
   "outputs": [
    {
     "name": "stdout",
     "output_type": "stream",
     "text": [
      "Index(['PassengerId', 'Survived', 'Pclass', 'Name', 'Sex', 'Age', 'SibSp',\n",
      "       'Parch', 'Ticket', 'Fare', 'Cabin', 'Embarked'],\n",
      "      dtype='object')\n"
     ]
    }
   ],
   "source": [
    "print(db.columns)"
   ]
  },
  {
   "cell_type": "markdown",
   "id": "78fa86f8-87de-4504-9371-a04455d221a6",
   "metadata": {},
   "source": [
    "### tras ver los datos que tenemos cogere el passengerid como index de los datos."
   ]
  },
  {
   "cell_type": "code",
   "execution_count": 126,
   "id": "9f173ce8-48d3-4cae-8f39-e280faadb420",
   "metadata": {},
   "outputs": [
    {
     "data": {
      "text/html": [
       "<div>\n",
       "<style scoped>\n",
       "    .dataframe tbody tr th:only-of-type {\n",
       "        vertical-align: middle;\n",
       "    }\n",
       "\n",
       "    .dataframe tbody tr th {\n",
       "        vertical-align: top;\n",
       "    }\n",
       "\n",
       "    .dataframe thead th {\n",
       "        text-align: right;\n",
       "    }\n",
       "</style>\n",
       "<table border=\"1\" class=\"dataframe\">\n",
       "  <thead>\n",
       "    <tr style=\"text-align: right;\">\n",
       "      <th></th>\n",
       "      <th>Survived</th>\n",
       "      <th>Pclass</th>\n",
       "      <th>Name</th>\n",
       "      <th>Sex</th>\n",
       "      <th>Age</th>\n",
       "      <th>SibSp</th>\n",
       "      <th>Parch</th>\n",
       "      <th>Ticket</th>\n",
       "      <th>Fare</th>\n",
       "      <th>Cabin</th>\n",
       "      <th>Embarked</th>\n",
       "    </tr>\n",
       "    <tr>\n",
       "      <th>PassengerId</th>\n",
       "      <th></th>\n",
       "      <th></th>\n",
       "      <th></th>\n",
       "      <th></th>\n",
       "      <th></th>\n",
       "      <th></th>\n",
       "      <th></th>\n",
       "      <th></th>\n",
       "      <th></th>\n",
       "      <th></th>\n",
       "      <th></th>\n",
       "    </tr>\n",
       "  </thead>\n",
       "  <tbody>\n",
       "    <tr>\n",
       "      <th>1</th>\n",
       "      <td>0</td>\n",
       "      <td>3</td>\n",
       "      <td>Braund, Mr. Owen Harris</td>\n",
       "      <td>male</td>\n",
       "      <td>22.0</td>\n",
       "      <td>1</td>\n",
       "      <td>0</td>\n",
       "      <td>A/5 21171</td>\n",
       "      <td>7.2500</td>\n",
       "      <td>NaN</td>\n",
       "      <td>S</td>\n",
       "    </tr>\n",
       "    <tr>\n",
       "      <th>2</th>\n",
       "      <td>1</td>\n",
       "      <td>1</td>\n",
       "      <td>Cumings, Mrs. John Bradley (Florence Briggs Th...</td>\n",
       "      <td>female</td>\n",
       "      <td>38.0</td>\n",
       "      <td>1</td>\n",
       "      <td>0</td>\n",
       "      <td>PC 17599</td>\n",
       "      <td>71.2833</td>\n",
       "      <td>C85</td>\n",
       "      <td>C</td>\n",
       "    </tr>\n",
       "    <tr>\n",
       "      <th>3</th>\n",
       "      <td>1</td>\n",
       "      <td>3</td>\n",
       "      <td>Heikkinen, Miss. Laina</td>\n",
       "      <td>female</td>\n",
       "      <td>26.0</td>\n",
       "      <td>0</td>\n",
       "      <td>0</td>\n",
       "      <td>STON/O2. 3101282</td>\n",
       "      <td>7.9250</td>\n",
       "      <td>NaN</td>\n",
       "      <td>S</td>\n",
       "    </tr>\n",
       "    <tr>\n",
       "      <th>4</th>\n",
       "      <td>1</td>\n",
       "      <td>1</td>\n",
       "      <td>Futrelle, Mrs. Jacques Heath (Lily May Peel)</td>\n",
       "      <td>female</td>\n",
       "      <td>35.0</td>\n",
       "      <td>1</td>\n",
       "      <td>0</td>\n",
       "      <td>113803</td>\n",
       "      <td>53.1000</td>\n",
       "      <td>C123</td>\n",
       "      <td>S</td>\n",
       "    </tr>\n",
       "    <tr>\n",
       "      <th>5</th>\n",
       "      <td>0</td>\n",
       "      <td>3</td>\n",
       "      <td>Allen, Mr. William Henry</td>\n",
       "      <td>male</td>\n",
       "      <td>35.0</td>\n",
       "      <td>0</td>\n",
       "      <td>0</td>\n",
       "      <td>373450</td>\n",
       "      <td>8.0500</td>\n",
       "      <td>NaN</td>\n",
       "      <td>S</td>\n",
       "    </tr>\n",
       "    <tr>\n",
       "      <th>6</th>\n",
       "      <td>0</td>\n",
       "      <td>3</td>\n",
       "      <td>Moran, Mr. James</td>\n",
       "      <td>male</td>\n",
       "      <td>NaN</td>\n",
       "      <td>0</td>\n",
       "      <td>0</td>\n",
       "      <td>330877</td>\n",
       "      <td>8.4583</td>\n",
       "      <td>NaN</td>\n",
       "      <td>Q</td>\n",
       "    </tr>\n",
       "    <tr>\n",
       "      <th>7</th>\n",
       "      <td>0</td>\n",
       "      <td>1</td>\n",
       "      <td>McCarthy, Mr. Timothy J</td>\n",
       "      <td>male</td>\n",
       "      <td>54.0</td>\n",
       "      <td>0</td>\n",
       "      <td>0</td>\n",
       "      <td>17463</td>\n",
       "      <td>51.8625</td>\n",
       "      <td>E46</td>\n",
       "      <td>S</td>\n",
       "    </tr>\n",
       "    <tr>\n",
       "      <th>8</th>\n",
       "      <td>0</td>\n",
       "      <td>3</td>\n",
       "      <td>Palsson, Master. Gosta Leonard</td>\n",
       "      <td>male</td>\n",
       "      <td>2.0</td>\n",
       "      <td>3</td>\n",
       "      <td>1</td>\n",
       "      <td>349909</td>\n",
       "      <td>21.0750</td>\n",
       "      <td>NaN</td>\n",
       "      <td>S</td>\n",
       "    </tr>\n",
       "    <tr>\n",
       "      <th>9</th>\n",
       "      <td>1</td>\n",
       "      <td>3</td>\n",
       "      <td>Johnson, Mrs. Oscar W (Elisabeth Vilhelmina Berg)</td>\n",
       "      <td>female</td>\n",
       "      <td>27.0</td>\n",
       "      <td>0</td>\n",
       "      <td>2</td>\n",
       "      <td>347742</td>\n",
       "      <td>11.1333</td>\n",
       "      <td>NaN</td>\n",
       "      <td>S</td>\n",
       "    </tr>\n",
       "    <tr>\n",
       "      <th>10</th>\n",
       "      <td>1</td>\n",
       "      <td>2</td>\n",
       "      <td>Nasser, Mrs. Nicholas (Adele Achem)</td>\n",
       "      <td>female</td>\n",
       "      <td>14.0</td>\n",
       "      <td>1</td>\n",
       "      <td>0</td>\n",
       "      <td>237736</td>\n",
       "      <td>30.0708</td>\n",
       "      <td>NaN</td>\n",
       "      <td>C</td>\n",
       "    </tr>\n",
       "    <tr>\n",
       "      <th>11</th>\n",
       "      <td>1</td>\n",
       "      <td>3</td>\n",
       "      <td>Sandstrom, Miss. Marguerite Rut</td>\n",
       "      <td>female</td>\n",
       "      <td>4.0</td>\n",
       "      <td>1</td>\n",
       "      <td>1</td>\n",
       "      <td>PP 9549</td>\n",
       "      <td>16.7000</td>\n",
       "      <td>G6</td>\n",
       "      <td>S</td>\n",
       "    </tr>\n",
       "    <tr>\n",
       "      <th>12</th>\n",
       "      <td>1</td>\n",
       "      <td>1</td>\n",
       "      <td>Bonnell, Miss. Elizabeth</td>\n",
       "      <td>female</td>\n",
       "      <td>58.0</td>\n",
       "      <td>0</td>\n",
       "      <td>0</td>\n",
       "      <td>113783</td>\n",
       "      <td>26.5500</td>\n",
       "      <td>C103</td>\n",
       "      <td>S</td>\n",
       "    </tr>\n",
       "  </tbody>\n",
       "</table>\n",
       "</div>"
      ],
      "text/plain": [
       "             Survived  Pclass  \\\n",
       "PassengerId                     \n",
       "1                   0       3   \n",
       "2                   1       1   \n",
       "3                   1       3   \n",
       "4                   1       1   \n",
       "5                   0       3   \n",
       "6                   0       3   \n",
       "7                   0       1   \n",
       "8                   0       3   \n",
       "9                   1       3   \n",
       "10                  1       2   \n",
       "11                  1       3   \n",
       "12                  1       1   \n",
       "\n",
       "                                                          Name     Sex   Age  \\\n",
       "PassengerId                                                                    \n",
       "1                                      Braund, Mr. Owen Harris    male  22.0   \n",
       "2            Cumings, Mrs. John Bradley (Florence Briggs Th...  female  38.0   \n",
       "3                                       Heikkinen, Miss. Laina  female  26.0   \n",
       "4                 Futrelle, Mrs. Jacques Heath (Lily May Peel)  female  35.0   \n",
       "5                                     Allen, Mr. William Henry    male  35.0   \n",
       "6                                             Moran, Mr. James    male   NaN   \n",
       "7                                      McCarthy, Mr. Timothy J    male  54.0   \n",
       "8                               Palsson, Master. Gosta Leonard    male   2.0   \n",
       "9            Johnson, Mrs. Oscar W (Elisabeth Vilhelmina Berg)  female  27.0   \n",
       "10                         Nasser, Mrs. Nicholas (Adele Achem)  female  14.0   \n",
       "11                             Sandstrom, Miss. Marguerite Rut  female   4.0   \n",
       "12                                    Bonnell, Miss. Elizabeth  female  58.0   \n",
       "\n",
       "             SibSp  Parch            Ticket     Fare Cabin Embarked  \n",
       "PassengerId                                                          \n",
       "1                1      0         A/5 21171   7.2500   NaN        S  \n",
       "2                1      0          PC 17599  71.2833   C85        C  \n",
       "3                0      0  STON/O2. 3101282   7.9250   NaN        S  \n",
       "4                1      0            113803  53.1000  C123        S  \n",
       "5                0      0            373450   8.0500   NaN        S  \n",
       "6                0      0            330877   8.4583   NaN        Q  \n",
       "7                0      0             17463  51.8625   E46        S  \n",
       "8                3      1            349909  21.0750   NaN        S  \n",
       "9                0      2            347742  11.1333   NaN        S  \n",
       "10               1      0            237736  30.0708   NaN        C  \n",
       "11               1      1           PP 9549  16.7000    G6        S  \n",
       "12               0      0            113783  26.5500  C103        S  "
      ]
     },
     "execution_count": 126,
     "metadata": {},
     "output_type": "execute_result"
    }
   ],
   "source": [
    "#tras ver los datos que tenemos cogere el passengerid como index de los datos.\n",
    "db.set_index(\"PassengerId\", inplace=True )\n",
    "\n",
    "#imprimimos las 12 columnas que tenemos ya con el PassengerId como indice de nuestra tabla.\n",
    "db.head(12)"
   ]
  },
  {
   "cell_type": "markdown",
   "id": "ba0a89f9-42d0-4fbc-a175-7c0b2323e825",
   "metadata": {},
   "source": [
    "### Eliminamos los nulos de las columnas Cabin, Age y embarked"
   ]
  },
  {
   "cell_type": "code",
   "execution_count": 127,
   "id": "22dce7c0-9021-4321-8e05-4a2818cd8f13",
   "metadata": {},
   "outputs": [
    {
     "data": {
      "text/plain": [
       "Survived    0\n",
       "Pclass      0\n",
       "Name        0\n",
       "Sex         0\n",
       "Age         0\n",
       "SibSp       0\n",
       "Parch       0\n",
       "Ticket      0\n",
       "Fare        0\n",
       "Cabin       0\n",
       "Embarked    0\n",
       "dtype: int64"
      ]
     },
     "execution_count": 127,
     "metadata": {},
     "output_type": "execute_result"
    }
   ],
   "source": [
    "#como observamos en las columnas Cabin, Age y embarked existen nulos y he tomado la decision de quitar los nulos\n",
    "#para tener el analisis correcto.\n",
    "db = pd.DataFrame(db)\n",
    "#Se borran los Nulos \n",
    "db.dropna(inplace=True)\n",
    "db.isnull().sum()"
   ]
  },
  {
   "cell_type": "code",
   "execution_count": 128,
   "id": "4e46e772-bb2a-41e6-98d4-6a0eeafaf048",
   "metadata": {},
   "outputs": [
    {
     "name": "stdout",
     "output_type": "stream",
     "text": [
      "Survived    0\n",
      "Pclass      0\n",
      "Name        0\n",
      "Sex         0\n",
      "Age         0\n",
      "SibSp       0\n",
      "Parch       0\n",
      "Ticket      0\n",
      "Fare        0\n",
      "Cabin       0\n",
      "Embarked    0\n",
      "dtype: int64\n",
      "(183, 11)\n"
     ]
    },
    {
     "data": {
      "text/html": [
       "<div>\n",
       "<style scoped>\n",
       "    .dataframe tbody tr th:only-of-type {\n",
       "        vertical-align: middle;\n",
       "    }\n",
       "\n",
       "    .dataframe tbody tr th {\n",
       "        vertical-align: top;\n",
       "    }\n",
       "\n",
       "    .dataframe thead th {\n",
       "        text-align: right;\n",
       "    }\n",
       "</style>\n",
       "<table border=\"1\" class=\"dataframe\">\n",
       "  <thead>\n",
       "    <tr style=\"text-align: right;\">\n",
       "      <th></th>\n",
       "      <th>Survived</th>\n",
       "      <th>Pclass</th>\n",
       "      <th>Name</th>\n",
       "      <th>Sex</th>\n",
       "      <th>Age</th>\n",
       "      <th>SibSp</th>\n",
       "      <th>Parch</th>\n",
       "      <th>Ticket</th>\n",
       "      <th>Fare</th>\n",
       "      <th>Cabin</th>\n",
       "      <th>Embarked</th>\n",
       "    </tr>\n",
       "    <tr>\n",
       "      <th>PassengerId</th>\n",
       "      <th></th>\n",
       "      <th></th>\n",
       "      <th></th>\n",
       "      <th></th>\n",
       "      <th></th>\n",
       "      <th></th>\n",
       "      <th></th>\n",
       "      <th></th>\n",
       "      <th></th>\n",
       "      <th></th>\n",
       "      <th></th>\n",
       "    </tr>\n",
       "  </thead>\n",
       "  <tbody>\n",
       "    <tr>\n",
       "      <th>2</th>\n",
       "      <td>1</td>\n",
       "      <td>1</td>\n",
       "      <td>Cumings, Mrs. John Bradley (Florence Briggs Th...</td>\n",
       "      <td>female</td>\n",
       "      <td>38.0</td>\n",
       "      <td>1</td>\n",
       "      <td>0</td>\n",
       "      <td>PC 17599</td>\n",
       "      <td>71.2833</td>\n",
       "      <td>C85</td>\n",
       "      <td>C</td>\n",
       "    </tr>\n",
       "    <tr>\n",
       "      <th>4</th>\n",
       "      <td>1</td>\n",
       "      <td>1</td>\n",
       "      <td>Futrelle, Mrs. Jacques Heath (Lily May Peel)</td>\n",
       "      <td>female</td>\n",
       "      <td>35.0</td>\n",
       "      <td>1</td>\n",
       "      <td>0</td>\n",
       "      <td>113803</td>\n",
       "      <td>53.1000</td>\n",
       "      <td>C123</td>\n",
       "      <td>S</td>\n",
       "    </tr>\n",
       "    <tr>\n",
       "      <th>7</th>\n",
       "      <td>0</td>\n",
       "      <td>1</td>\n",
       "      <td>McCarthy, Mr. Timothy J</td>\n",
       "      <td>male</td>\n",
       "      <td>54.0</td>\n",
       "      <td>0</td>\n",
       "      <td>0</td>\n",
       "      <td>17463</td>\n",
       "      <td>51.8625</td>\n",
       "      <td>E46</td>\n",
       "      <td>S</td>\n",
       "    </tr>\n",
       "    <tr>\n",
       "      <th>11</th>\n",
       "      <td>1</td>\n",
       "      <td>3</td>\n",
       "      <td>Sandstrom, Miss. Marguerite Rut</td>\n",
       "      <td>female</td>\n",
       "      <td>4.0</td>\n",
       "      <td>1</td>\n",
       "      <td>1</td>\n",
       "      <td>PP 9549</td>\n",
       "      <td>16.7000</td>\n",
       "      <td>G6</td>\n",
       "      <td>S</td>\n",
       "    </tr>\n",
       "    <tr>\n",
       "      <th>12</th>\n",
       "      <td>1</td>\n",
       "      <td>1</td>\n",
       "      <td>Bonnell, Miss. Elizabeth</td>\n",
       "      <td>female</td>\n",
       "      <td>58.0</td>\n",
       "      <td>0</td>\n",
       "      <td>0</td>\n",
       "      <td>113783</td>\n",
       "      <td>26.5500</td>\n",
       "      <td>C103</td>\n",
       "      <td>S</td>\n",
       "    </tr>\n",
       "    <tr>\n",
       "      <th>22</th>\n",
       "      <td>1</td>\n",
       "      <td>2</td>\n",
       "      <td>Beesley, Mr. Lawrence</td>\n",
       "      <td>male</td>\n",
       "      <td>34.0</td>\n",
       "      <td>0</td>\n",
       "      <td>0</td>\n",
       "      <td>248698</td>\n",
       "      <td>13.0000</td>\n",
       "      <td>D56</td>\n",
       "      <td>S</td>\n",
       "    </tr>\n",
       "    <tr>\n",
       "      <th>24</th>\n",
       "      <td>1</td>\n",
       "      <td>1</td>\n",
       "      <td>Sloper, Mr. William Thompson</td>\n",
       "      <td>male</td>\n",
       "      <td>28.0</td>\n",
       "      <td>0</td>\n",
       "      <td>0</td>\n",
       "      <td>113788</td>\n",
       "      <td>35.5000</td>\n",
       "      <td>A6</td>\n",
       "      <td>S</td>\n",
       "    </tr>\n",
       "    <tr>\n",
       "      <th>28</th>\n",
       "      <td>0</td>\n",
       "      <td>1</td>\n",
       "      <td>Fortune, Mr. Charles Alexander</td>\n",
       "      <td>male</td>\n",
       "      <td>19.0</td>\n",
       "      <td>3</td>\n",
       "      <td>2</td>\n",
       "      <td>19950</td>\n",
       "      <td>263.0000</td>\n",
       "      <td>C23 C25 C27</td>\n",
       "      <td>S</td>\n",
       "    </tr>\n",
       "    <tr>\n",
       "      <th>53</th>\n",
       "      <td>1</td>\n",
       "      <td>1</td>\n",
       "      <td>Harper, Mrs. Henry Sleeper (Myna Haxtun)</td>\n",
       "      <td>female</td>\n",
       "      <td>49.0</td>\n",
       "      <td>1</td>\n",
       "      <td>0</td>\n",
       "      <td>PC 17572</td>\n",
       "      <td>76.7292</td>\n",
       "      <td>D33</td>\n",
       "      <td>C</td>\n",
       "    </tr>\n",
       "    <tr>\n",
       "      <th>55</th>\n",
       "      <td>0</td>\n",
       "      <td>1</td>\n",
       "      <td>Ostby, Mr. Engelhart Cornelius</td>\n",
       "      <td>male</td>\n",
       "      <td>65.0</td>\n",
       "      <td>0</td>\n",
       "      <td>1</td>\n",
       "      <td>113509</td>\n",
       "      <td>61.9792</td>\n",
       "      <td>B30</td>\n",
       "      <td>C</td>\n",
       "    </tr>\n",
       "    <tr>\n",
       "      <th>63</th>\n",
       "      <td>0</td>\n",
       "      <td>1</td>\n",
       "      <td>Harris, Mr. Henry Birkhardt</td>\n",
       "      <td>male</td>\n",
       "      <td>45.0</td>\n",
       "      <td>1</td>\n",
       "      <td>0</td>\n",
       "      <td>36973</td>\n",
       "      <td>83.4750</td>\n",
       "      <td>C83</td>\n",
       "      <td>S</td>\n",
       "    </tr>\n",
       "    <tr>\n",
       "      <th>67</th>\n",
       "      <td>1</td>\n",
       "      <td>2</td>\n",
       "      <td>Nye, Mrs. (Elizabeth Ramell)</td>\n",
       "      <td>female</td>\n",
       "      <td>29.0</td>\n",
       "      <td>0</td>\n",
       "      <td>0</td>\n",
       "      <td>C.A. 29395</td>\n",
       "      <td>10.5000</td>\n",
       "      <td>F33</td>\n",
       "      <td>S</td>\n",
       "    </tr>\n",
       "  </tbody>\n",
       "</table>\n",
       "</div>"
      ],
      "text/plain": [
       "             Survived  Pclass  \\\n",
       "PassengerId                     \n",
       "2                   1       1   \n",
       "4                   1       1   \n",
       "7                   0       1   \n",
       "11                  1       3   \n",
       "12                  1       1   \n",
       "22                  1       2   \n",
       "24                  1       1   \n",
       "28                  0       1   \n",
       "53                  1       1   \n",
       "55                  0       1   \n",
       "63                  0       1   \n",
       "67                  1       2   \n",
       "\n",
       "                                                          Name     Sex   Age  \\\n",
       "PassengerId                                                                    \n",
       "2            Cumings, Mrs. John Bradley (Florence Briggs Th...  female  38.0   \n",
       "4                 Futrelle, Mrs. Jacques Heath (Lily May Peel)  female  35.0   \n",
       "7                                      McCarthy, Mr. Timothy J    male  54.0   \n",
       "11                             Sandstrom, Miss. Marguerite Rut  female   4.0   \n",
       "12                                    Bonnell, Miss. Elizabeth  female  58.0   \n",
       "22                                       Beesley, Mr. Lawrence    male  34.0   \n",
       "24                                Sloper, Mr. William Thompson    male  28.0   \n",
       "28                              Fortune, Mr. Charles Alexander    male  19.0   \n",
       "53                    Harper, Mrs. Henry Sleeper (Myna Haxtun)  female  49.0   \n",
       "55                              Ostby, Mr. Engelhart Cornelius    male  65.0   \n",
       "63                                 Harris, Mr. Henry Birkhardt    male  45.0   \n",
       "67                                Nye, Mrs. (Elizabeth Ramell)  female  29.0   \n",
       "\n",
       "             SibSp  Parch      Ticket      Fare        Cabin Embarked  \n",
       "PassengerId                                                            \n",
       "2                1      0    PC 17599   71.2833          C85        C  \n",
       "4                1      0      113803   53.1000         C123        S  \n",
       "7                0      0       17463   51.8625          E46        S  \n",
       "11               1      1     PP 9549   16.7000           G6        S  \n",
       "12               0      0      113783   26.5500         C103        S  \n",
       "22               0      0      248698   13.0000          D56        S  \n",
       "24               0      0      113788   35.5000           A6        S  \n",
       "28               3      2       19950  263.0000  C23 C25 C27        S  \n",
       "53               1      0    PC 17572   76.7292          D33        C  \n",
       "55               0      1      113509   61.9792          B30        C  \n",
       "63               1      0       36973   83.4750          C83        S  \n",
       "67               0      0  C.A. 29395   10.5000          F33        S  "
      ]
     },
     "execution_count": 128,
     "metadata": {},
     "output_type": "execute_result"
    }
   ],
   "source": [
    "#una vez quitado todos los nulos de las columnas anteriormente descritas vuelvo a analizar los datos\n",
    "#debemos proceder a ver los outlier.\n",
    "db = db[~db[\"Cabin\"].isnull()]\n",
    "db = db[~db[\"Age\"].isnull()]\n",
    "db = db[~db[\"Embarked\"].isnull()]\n",
    "print(db.isnull().sum())\n",
    "print(db.shape)\n",
    "\n",
    "#verifico en la tabla que en cabin no existe los NaN ni en ninguna otra\n",
    "db.head(12)"
   ]
  },
  {
   "cell_type": "markdown",
   "id": "ebbb6bb0-26a6-4f39-ba9f-a606d2f11097",
   "metadata": {},
   "source": [
    "# OUTLIER"
   ]
  },
  {
   "cell_type": "markdown",
   "id": "e84e8bc4-19f5-4000-8c84-6f8ec525f7c9",
   "metadata": {},
   "source": [
    "## Analisis Univariado"
   ]
  },
  {
   "cell_type": "markdown",
   "id": "fc297601-450c-4100-8fba-546a78580657",
   "metadata": {},
   "source": [
    "### vemos el analisis univariado del outlier de nuestros datos, filtrado por tarifa"
   ]
  },
  {
   "cell_type": "code",
   "execution_count": 129,
   "id": "27d903c5-02fa-4d8d-a4d6-3ce626a3a12e",
   "metadata": {},
   "outputs": [
    {
     "data": {
      "text/plain": [
       "Fare\n",
       "26.5500     7\n",
       "53.1000     5\n",
       "90.0000     4\n",
       "10.5000     4\n",
       "13.0000     4\n",
       "           ..\n",
       "211.5000    1\n",
       "8.0500      1\n",
       "81.8583     1\n",
       "27.7500     1\n",
       "5.0000      1\n",
       "Name: count, Length: 93, dtype: int64"
      ]
     },
     "execution_count": 129,
     "metadata": {},
     "output_type": "execute_result"
    }
   ],
   "source": [
    "#vemos el analisis univariado del outlier de nuestros datos, filtrado por tarifa\n",
    "db.Fare.value_counts()"
   ]
  },
  {
   "cell_type": "markdown",
   "id": "0f796572-50c3-4ae5-b0f1-8d5b6050744a",
   "metadata": {},
   "source": [
    "### Normalizamos los valores para poder representarlo en una grafica."
   ]
  },
  {
   "cell_type": "code",
   "execution_count": 130,
   "id": "b6ea84dc-9d8b-4848-83aa-a962738f0915",
   "metadata": {},
   "outputs": [
    {
     "data": {
      "text/plain": [
       "Fare\n",
       "26.5500     0.038251\n",
       "53.1000     0.027322\n",
       "90.0000     0.021858\n",
       "10.5000     0.021858\n",
       "13.0000     0.021858\n",
       "              ...   \n",
       "211.5000    0.005464\n",
       "8.0500      0.005464\n",
       "81.8583     0.005464\n",
       "27.7500     0.005464\n",
       "5.0000      0.005464\n",
       "Name: proportion, Length: 93, dtype: float64"
      ]
     },
     "execution_count": 130,
     "metadata": {},
     "output_type": "execute_result"
    }
   ],
   "source": [
    "#Normalizamos los valores para poder representarlo en una grafica.\n",
    "db.Fare.value_counts(normalize=True)"
   ]
  },
  {
   "cell_type": "markdown",
   "id": "dcebdd7d-ca8a-4e5c-b5fc-6ff26bc87420",
   "metadata": {},
   "source": [
    "### Realizamos una gráfica para ver los outliers, obteniendo fuera de lo normal representado por circulos todos\n",
    "<b>Los outlier de la columna tarifa/fare</b>"
   ]
  },
  {
   "cell_type": "code",
   "execution_count": 131,
   "id": "fb28723d-b0b3-463a-a574-44d720f5fe9d",
   "metadata": {},
   "outputs": [
    {
     "data": {
      "image/png": "[encoded data removed]",
      "text/plain": [
       "<Figure size 640x480 with 1 Axes>"
      ]
     },
     "metadata": {},
     "output_type": "display_data"
    }
   ],
   "source": [
    "grafica_oulier= sns.boxplot(x = \"Fare\", data = db).set(title='Outlier por tarifa')"
   ]
  },
  {
   "cell_type": "markdown",
   "id": "8adc99ad-7ea4-4380-a987-204740857885",
   "metadata": {},
   "source": [
    "### realizaremos otra gráfica para ver por ejemplo en una grafica de barras,\n",
    "<b>por el puerto que embarcaron (C = Cherbourg; Q = Queenstown; S = Southampton)\n",
    "de esta gráfica deducimos que la mayoria salieron de Southamton</b>"
   ]
  },
  {
   "cell_type": "code",
   "execution_count": 132,
   "id": "6627cb5b-cb84-44be-998f-2da912014a92",
   "metadata": {},
   "outputs": [
    {
     "data": {
      "image/png": "[encoded data removed]",
      "text/plain": [
       "<Figure size 640x480 with 1 Axes>"
      ]
     },
     "metadata": {},
     "output_type": "display_data"
    }
   ],
   "source": [
    "#creamos la grafica segun el embarked(puerto embarcado), normalizamos los datos y la representamos\n",
    "db.Embarked.value_counts(normalize=True)\n",
    "db.Embarked.value_counts().plot.barh().set(title=\"gráfica por puerto embarcado\")\n",
    "plt.show()"
   ]
  },
  {
   "cell_type": "markdown",
   "id": "33807e10-68ec-4e67-b104-486c1498e969",
   "metadata": {},
   "source": [
    "### por ultimo veremos en una gráfica circular cuantos eran hombre y cuantas eran mujeres según su titulo Miss, MR, MRS"
   ]
  },
  {
   "cell_type": "code",
   "execution_count": 133,
   "id": "de828f94-93ee-44e4-bbe9-36a6d401ff81",
   "metadata": {},
   "outputs": [
    {
     "data": {
      "image/png": "[encoded data removed]",
      "text/plain": [
       "<Figure size 640x480 with 1 Axes>"
      ]
     },
     "metadata": {},
     "output_type": "display_data"
    }
   ],
   "source": [
    "#creamos las variables, las inicializamos y recorremos la columna Nombre de la base datos\n",
    "contador_Mrs=0\n",
    "contador_Miss=0\n",
    "contador_Mr=0\n",
    "for i in db[\"Name\"]:\n",
    "    if \"Mrs\" in i:\n",
    "        contador_Mrs+=1\n",
    "    elif \"Miss\" in i:\n",
    "        contador_Miss+=1\n",
    "    else:\n",
    "        contador_Mr+=1\n",
    "\n",
    "#creamos la lista\n",
    "titulo=[contador_Mrs, contador_Miss, contador_Mr]\n",
    "\n",
    "#creamos la gráfica\n",
    "nombres =[\"Mrs (\"+str(contador_Mrs)+\")\",\"Miss (\"+str(contador_Miss)+\")\",\"Mr (\"+str(contador_Mr)+\")\"]\n",
    "plt.pie(titulo , labels = nombres)\n",
    "plt.show()\n"
   ]
  },
  {
   "cell_type": "code",
   "execution_count": 134,
   "id": "044de80f-0185-4b65-9108-7c1f544ff49e",
   "metadata": {},
   "outputs": [
    {
     "data": {
      "text/plain": [
       "<Axes: xlabel='Fare', ylabel='Count'>"
      ]
     },
     "execution_count": 134,
     "metadata": {},
     "output_type": "execute_result"
    },
    {
     "data": {
      "image/png": "[encoded data removed]",
      "text/plain": [
       "<Figure size 640x480 with 1 Axes>"
      ]
     },
     "metadata": {},
     "output_type": "display_data"
    }
   ],
   "source": [
    "sns.histplot(db['Fare'])"
   ]
  },
  {
   "cell_type": "markdown",
   "id": "442e84d7-0b7f-4fd3-acac-4a989087cff1",
   "metadata": {},
   "source": [
    "## Analisis Bivariado"
   ]
  },
  {
   "cell_type": "markdown",
   "id": "52ee54a0-39d3-4cbc-aa79-cb06990c4d51",
   "metadata": {},
   "source": [
    "### Creamos una gráfica SCATTER con Edad y Tarifa para ver que tarifas eligieron segun su edad"
   ]
  },
  {
   "cell_type": "code",
   "execution_count": 357,
   "id": "57568ee5-41f1-4f42-a46a-4dbe780aeaec",
   "metadata": {},
   "outputs": [
    {
     "data": {
      "image/png": "[encoded data removed]",
      "text/plain": [
       "<Figure size 640x480 with 1 Axes>"
      ]
     },
     "metadata": {},
     "output_type": "display_data"
    }
   ],
   "source": [
    "# en esta grafica podemos concluir que la mayoria de las \n",
    "# personas entre 0 y 80 años pagaron un precio inferior a 300\n",
    "# y que solo dos personas entre 30 y 40 años pagaron 500\n",
    "# y que nadie pago 400\n",
    "\n",
    "db.plot.scatter(x=\"Age\" , y=\"Fare\").set_title(\"Grafica segun tarifa y edad\")\n",
    "plt.show()"
   ]
  },
  {
   "cell_type": "markdown",
   "id": "d9f79285-0487-4508-9d5d-408d36b22776",
   "metadata": {},
   "source": [
    "### Se realiza una grafica Pair Plot con Tarifa, Puerto de Embarque y Edad "
   ]
  },
  {
   "cell_type": "code",
   "execution_count": 358,
   "id": "04016bb8-0e29-4e49-855c-8a89d2a58c5d",
   "metadata": {},
   "outputs": [
    {
     "data": {
      "image/png": "[encoded data removed]",
      "text/plain": [
       "<Figure size 750x750 with 12 Axes>"
      ]
     },
     "metadata": {},
     "output_type": "display_data"
    }
   ],
   "source": [
    "sns.pairplot(db, vars=[\"Fare\",\"Pclass\", \"Age\"])\n",
    "plt.show()"
   ]
  },
  {
   "cell_type": "markdown",
   "id": "7611d105-d455-4059-b656-600515758190",
   "metadata": {},
   "source": [
    "### Se crea una matriz de correlacion"
   ]
  },
  {
   "cell_type": "markdown",
   "id": "9dfde82d-4233-4cb1-9128-3adf6b6447ce",
   "metadata": {},
   "source": [
    "<b> Eliminamos las columnas que sean Objeto o String y solo dejamos las INT y las FLoat</b>"
   ]
  },
  {
   "cell_type": "code",
   "execution_count": 359,
   "id": "7dbd3f90-0432-40a9-a083-d40f64555219",
   "metadata": {},
   "outputs": [
    {
     "name": "stdout",
     "output_type": "stream",
     "text": [
      "<class 'pandas.core.frame.DataFrame'>\n",
      "RangeIndex: 183 entries, 0 to 182\n",
      "Data columns (total 6 columns):\n",
      " #   Column    Non-Null Count  Dtype  \n",
      "---  ------    --------------  -----  \n",
      " 0   Survived  183 non-null    int64  \n",
      " 1   Pclass    183 non-null    int64  \n",
      " 2   Age       183 non-null    float64\n",
      " 3   SibSp     183 non-null    int64  \n",
      " 4   Parch     183 non-null    int64  \n",
      " 5   Fare      183 non-null    float64\n",
      "dtypes: float64(2), int64(4)\n",
      "memory usage: 8.7 KB\n"
     ]
    }
   ],
   "source": [
    "#tenemos que eliminar las columnas de string para hacer la tabla de correlación\n",
    "#ademas borramos la PassengerId ya que esta no nos hace falta para el mapa calor.\n",
    "#Creo una copia del archivo ya que voy a borrar datos y no quiero perder los datos del original\n",
    "dc = db.to_csv(\"Titanic_Copia.csv\")\n",
    "dc = pd.read_csv(\"Titanic_Copia.csv\")\n",
    "dc = dc.drop(\"Name\", axis=1)\n",
    "dc = dc.drop(\"Sex\", axis=1)\n",
    "dc = dc.drop(\"Cabin\", axis=1)\n",
    "dc = dc.drop(\"Embarked\", axis=1)\n",
    "dc = dc.drop(\"Ticket\", axis=1)\n",
    "dc = dc.drop(\"PassengerId\", axis=1)\n",
    "\n",
    "#Obtengo la información de la tabla para ver si existe algun dato que sea tipo Objeto y no tipo Float o int para poder realizar la correlacion\n",
    "dc.info()"
   ]
  },
  {
   "cell_type": "markdown",
   "id": "3bd0ae43-066e-49a0-9c93-d25efa84b745",
   "metadata": {},
   "source": [
    "## Resultado de la Matriz de Correlación"
   ]
  },
  {
   "cell_type": "markdown",
   "id": "ab6bb048-1c49-4f44-955c-29e50af9709d",
   "metadata": {},
   "source": [
    "<b>tras borrar todas las columnas que no son necesarias quedaron \n",
    "Sobrevivió, clase de pasajero , años, num hermanos/conyuges(SibSp), num parientes(parch), tarifa</b>"
   ]
  },
  {
   "cell_type": "code",
   "execution_count": 360,
   "id": "ce73528f-920f-4b63-a203-f336a05510c2",
   "metadata": {},
   "outputs": [
    {
     "data": {
      "text/html": [
       "<div>\n",
       "<style scoped>\n",
       "    .dataframe tbody tr th:only-of-type {\n",
       "        vertical-align: middle;\n",
       "    }\n",
       "\n",
       "    .dataframe tbody tr th {\n",
       "        vertical-align: top;\n",
       "    }\n",
       "\n",
       "    .dataframe thead th {\n",
       "        text-align: right;\n",
       "    }\n",
       "</style>\n",
       "<table border=\"1\" class=\"dataframe\">\n",
       "  <thead>\n",
       "    <tr style=\"text-align: right;\">\n",
       "      <th></th>\n",
       "      <th>Survived</th>\n",
       "      <th>Pclass</th>\n",
       "      <th>Age</th>\n",
       "      <th>SibSp</th>\n",
       "      <th>Parch</th>\n",
       "      <th>Fare</th>\n",
       "    </tr>\n",
       "  </thead>\n",
       "  <tbody>\n",
       "    <tr>\n",
       "      <th>Survived</th>\n",
       "      <td>1.000000</td>\n",
       "      <td>-0.034542</td>\n",
       "      <td>-0.254085</td>\n",
       "      <td>0.106346</td>\n",
       "      <td>0.023582</td>\n",
       "      <td>0.134241</td>\n",
       "    </tr>\n",
       "    <tr>\n",
       "      <th>Pclass</th>\n",
       "      <td>-0.034542</td>\n",
       "      <td>1.000000</td>\n",
       "      <td>-0.306514</td>\n",
       "      <td>-0.103592</td>\n",
       "      <td>0.047496</td>\n",
       "      <td>-0.315235</td>\n",
       "    </tr>\n",
       "    <tr>\n",
       "      <th>Age</th>\n",
       "      <td>-0.254085</td>\n",
       "      <td>-0.306514</td>\n",
       "      <td>1.000000</td>\n",
       "      <td>-0.156162</td>\n",
       "      <td>-0.271271</td>\n",
       "      <td>-0.092424</td>\n",
       "    </tr>\n",
       "    <tr>\n",
       "      <th>SibSp</th>\n",
       "      <td>0.106346</td>\n",
       "      <td>-0.103592</td>\n",
       "      <td>-0.156162</td>\n",
       "      <td>1.000000</td>\n",
       "      <td>0.255346</td>\n",
       "      <td>0.286433</td>\n",
       "    </tr>\n",
       "    <tr>\n",
       "      <th>Parch</th>\n",
       "      <td>0.023582</td>\n",
       "      <td>0.047496</td>\n",
       "      <td>-0.271271</td>\n",
       "      <td>0.255346</td>\n",
       "      <td>1.000000</td>\n",
       "      <td>0.389740</td>\n",
       "    </tr>\n",
       "    <tr>\n",
       "      <th>Fare</th>\n",
       "      <td>0.134241</td>\n",
       "      <td>-0.315235</td>\n",
       "      <td>-0.092424</td>\n",
       "      <td>0.286433</td>\n",
       "      <td>0.389740</td>\n",
       "      <td>1.000000</td>\n",
       "    </tr>\n",
       "  </tbody>\n",
       "</table>\n",
       "</div>"
      ],
      "text/plain": [
       "          Survived    Pclass       Age     SibSp     Parch      Fare\n",
       "Survived  1.000000 -0.034542 -0.254085  0.106346  0.023582  0.134241\n",
       "Pclass   -0.034542  1.000000 -0.306514 -0.103592  0.047496 -0.315235\n",
       "Age      -0.254085 -0.306514  1.000000 -0.156162 -0.271271 -0.092424\n",
       "SibSp     0.106346 -0.103592 -0.156162  1.000000  0.255346  0.286433\n",
       "Parch     0.023582  0.047496 -0.271271  0.255346  1.000000  0.389740\n",
       "Fare      0.134241 -0.315235 -0.092424  0.286433  0.389740  1.000000"
      ]
     },
     "execution_count": 360,
     "metadata": {},
     "output_type": "execute_result"
    }
   ],
   "source": [
    "#tras borrar todas las columnas que no son necesarias quedaron \n",
    "#Sobrevivió, clase de pasajero , años, num hermanos/conyuges(SibSp), num parientes(parch), tarifa\n",
    "dc_matrix = dc.corr()\n",
    "dc_matrix"
   ]
  },
  {
   "cell_type": "markdown",
   "id": "6fcbfb51-ab3c-4b86-9266-d91bc6fbf791",
   "metadata": {},
   "source": [
    "### Ahora creamos un Mapa de Calor"
   ]
  },
  {
   "cell_type": "code",
   "execution_count": 361,
   "id": "d5e3db44-fe4b-4c61-a637-4259c63b9a05",
   "metadata": {},
   "outputs": [
    {
     "data": {
      "image/png": "[encoded data removed]",
      "text/plain": [
       "<Figure size 640x480 with 2 Axes>"
      ]
     },
     "metadata": {},
     "output_type": "display_data"
    }
   ],
   "source": [
    "sns.heatmap(dc_matrix, annot=True, cmap = \"Reds\")\n",
    "plt.show()"
   ]
  },
  {
   "cell_type": "markdown",
   "id": "eebabdc4-0e6c-46c5-bb13-4411e060d464",
   "metadata": {},
   "source": [
    "#### Relaciones entre variables categóricas y numericas"
   ]
  },
  {
   "cell_type": "markdown",
   "id": "aafabb62-5faf-4c60-8d16-d4d84fc4086b",
   "metadata": {},
   "source": [
    "<b>He sacado la variable categorica de estas dos columnas, tarifa y el sexo de quien viaja\n",
    "de este modo obtendremos cuantas mujeres y hombres pagaron</b>"
   ]
  },
  {
   "cell_type": "code",
   "execution_count": 362,
   "id": "03ac6d80-a692-4ed7-9b3f-3ab9e7ab92bc",
   "metadata": {},
   "outputs": [
    {
     "data": {
      "text/plain": [
       "Sex\n",
       "0    89.000900\n",
       "1    69.124343\n",
       "Name: Fare, dtype: float64"
      ]
     },
     "execution_count": 362,
     "metadata": {},
     "output_type": "execute_result"
    }
   ],
   "source": [
    "db.groupby('Sex')['Fare'].mean()"
   ]
  },
  {
   "cell_type": "markdown",
   "id": "e02204e7-c7f6-478c-a7c6-86ff65150ce4",
   "metadata": {},
   "source": [
    "<b> Observamos que la mediana que se paga segun el sexo es la siguiente.</b>"
   ]
  },
  {
   "cell_type": "code",
   "execution_count": 363,
   "id": "12a58ad3-5a1f-418f-9615-6974317217e7",
   "metadata": {},
   "outputs": [
    {
     "data": {
      "text/plain": [
       "Sex\n",
       "0    77.9583\n",
       "1    51.8625\n",
       "Name: Fare, dtype: float64"
      ]
     },
     "execution_count": 363,
     "metadata": {},
     "output_type": "execute_result"
    }
   ],
   "source": [
    "db.groupby('Sex')['Fare'].median()"
   ]
  },
  {
   "cell_type": "markdown",
   "id": "d4efe7f7-a02e-458e-8078-3b248dc0b279",
   "metadata": {},
   "source": [
    "<b> Donde observamos que, el sexo femenino paga o ha pagado mas por viajar que el sexo masculino o ha pagado\n",
    "mejor clase para viajar</b>"
   ]
  },
  {
   "cell_type": "code",
   "execution_count": 364,
   "id": "2fd39336-9e72-4846-a8c8-a9dec1ad64c3",
   "metadata": {},
   "outputs": [
    {
     "data": {
      "image/png": "[encoded data removed]",
      "text/plain": [
       "<Figure size 640x480 with 1 Axes>"
      ]
     },
     "metadata": {},
     "output_type": "display_data"
    }
   ],
   "source": [
    "sns.boxplot(x=db.Sex, y=db.Fare)\n",
    "plt.show()"
   ]
  },
  {
   "cell_type": "markdown",
   "id": "99319780-f387-4c99-8748-f73a7fb945f8",
   "metadata": {},
   "source": [
    "<b>Sacamos la misma estadistica usando una gráfica violinista.</b>"
   ]
  },
  {
   "cell_type": "code",
   "execution_count": 356,
   "id": "0cf23c65-fc7a-4e27-b979-f7d4276dfb47",
   "metadata": {},
   "outputs": [
    {
     "data": {
      "image/png": "[encoded data removed]",
      "text/plain": [
       "<Figure size 640x480 with 1 Axes>"
      ]
     },
     "metadata": {},
     "output_type": "display_data"
    }
   ],
   "source": [
    "sns.violinplot(x=db.Sex, y=db.Fare)\n",
    "plt.show()"
   ]
  },
  {
   "cell_type": "markdown",
   "id": "779e3cef-3444-4664-b77d-dcb89dff9bbc",
   "metadata": {},
   "source": [
    "### Analisis bivariado entre variables categóricas"
   ]
  },
  {
   "cell_type": "markdown",
   "id": "bf2df2c4-93b8-4c83-ada2-c5d3c52b3d54",
   "metadata": {},
   "source": [
    "<b>para ello convertiremos el sexo en una variable binaria y veremos el impacto existente</b>"
   ]
  },
  {
   "cell_type": "code",
   "execution_count": 164,
   "id": "b59fc383-e4f0-4b79-adaa-ae30bbe81c34",
   "metadata": {},
   "outputs": [
    {
     "data": {
      "text/plain": [
       "Sex\n",
       "1    95\n",
       "0    88\n",
       "Name: count, dtype: int64"
      ]
     },
     "execution_count": 164,
     "metadata": {},
     "output_type": "execute_result"
    }
   ],
   "source": [
    "db['Sex'] = np.where(db.Sex=='male',1,0)\n",
    "db.Sex.value_counts()"
   ]
  },
  {
   "cell_type": "markdown",
   "id": "301c788b-b627-4b36-bd6a-b8ec692bfaed",
   "metadata": {},
   "source": [
    "<b>Según los resultados, el 95 han sido masculinos y 88 femeninos.</b>"
   ]
  },
  {
   "cell_type": "markdown",
   "id": "f0e657d2-edbd-4378-ba32-c40d44fb5844",
   "metadata": {},
   "source": [
    "<b>Ahora veremos como se distribullen estos sexos segun las clases</b>"
   ]
  },
  {
   "cell_type": "code",
   "execution_count": 165,
   "id": "2122c6ce-5f34-41b7-aee7-d60ef7ea7be2",
   "metadata": {},
   "outputs": [
    {
     "data": {
      "image/png": "[encoded data removed]",
      "text/plain": [
       "<Figure size 640x480 with 1 Axes>"
      ]
     },
     "metadata": {},
     "output_type": "display_data"
    }
   ],
   "source": [
    "db.groupby('Pclass')['Sex'].mean().plot.bar()\n",
    "plt.show()"
   ]
  },
  {
   "cell_type": "markdown",
   "id": "86598e92-32b7-4462-b576-0d70769d63d1",
   "metadata": {},
   "source": [
    "<b>Donde nos indican que casi todas las clases estan practicamente iguales, siendo la primera y la tercera las mas vendidas </b>"
   ]
  },
  {
   "cell_type": "markdown",
   "id": "a95cc21d-7a37-40ff-8ba4-236cf79656d5",
   "metadata": {},
   "source": [
    "<b>Ahora veremos en un diagrama de barras cuantos han sobrevivido segun el sexo, \n",
    "segun vemos,sobrevivieron mas mujeres que hombre.</b>"
   ]
  },
  {
   "cell_type": "code",
   "execution_count": 166,
   "id": "0cf1ee26-d4b0-40e3-8d40-1ac304e9e0d1",
   "metadata": {},
   "outputs": [
    {
     "data": {
      "image/png": "[encoded data removed]",
      "text/plain": [
       "<Figure size 640x480 with 1 Axes>"
      ]
     },
     "metadata": {},
     "output_type": "display_data"
    }
   ],
   "source": [
    "db.groupby('Survived')['Sex'].mean().plot.bar()\n",
    "plt.show()"
   ]
  },
  {
   "cell_type": "markdown",
   "id": "37d91638-034f-4905-a7ce-32f594a22581",
   "metadata": {},
   "source": [
    "### Analisis multivariado"
   ]
  },
  {
   "cell_type": "markdown",
   "id": "87b8d8de-f190-4880-87ac-f9b16eb73ee9",
   "metadata": {},
   "source": [
    "<b>Ahora hago el analisis tomando como index las diferentes clases, como columnas el sexo y el valor cuantos sobrevivieron</b>"
   ]
  },
  {
   "cell_type": "code",
   "execution_count": 227,
   "id": "1149cf2a-983c-4905-88e4-43b2b7d790f0",
   "metadata": {},
   "outputs": [
    {
     "data": {
      "text/html": [
       "<div>\n",
       "<style scoped>\n",
       "    .dataframe tbody tr th:only-of-type {\n",
       "        vertical-align: middle;\n",
       "    }\n",
       "\n",
       "    .dataframe tbody tr th {\n",
       "        vertical-align: top;\n",
       "    }\n",
       "\n",
       "    .dataframe thead th {\n",
       "        text-align: right;\n",
       "    }\n",
       "</style>\n",
       "<table border=\"1\" class=\"dataframe\">\n",
       "  <thead>\n",
       "    <tr style=\"text-align: right;\">\n",
       "      <th>Sex</th>\n",
       "      <th>0</th>\n",
       "      <th>1</th>\n",
       "    </tr>\n",
       "    <tr>\n",
       "      <th>Pclass</th>\n",
       "      <th></th>\n",
       "      <th></th>\n",
       "    </tr>\n",
       "  </thead>\n",
       "  <tbody>\n",
       "    <tr>\n",
       "      <th>1</th>\n",
       "      <td>0.959459</td>\n",
       "      <td>0.416667</td>\n",
       "    </tr>\n",
       "    <tr>\n",
       "      <th>2</th>\n",
       "      <td>0.888889</td>\n",
       "      <td>0.666667</td>\n",
       "    </tr>\n",
       "    <tr>\n",
       "      <th>3</th>\n",
       "      <td>0.600000</td>\n",
       "      <td>0.400000</td>\n",
       "    </tr>\n",
       "  </tbody>\n",
       "</table>\n",
       "</div>"
      ],
      "text/plain": [
       "Sex            0         1\n",
       "Pclass                    \n",
       "1       0.959459  0.416667\n",
       "2       0.888889  0.666667\n",
       "3       0.600000  0.400000"
      ]
     },
     "execution_count": 227,
     "metadata": {},
     "output_type": "execute_result"
    }
   ],
   "source": [
    "result = pd.pivot_table(data=db, index='Pclass', columns='Sex',values='Survived')\n",
    "result"
   ]
  },
  {
   "cell_type": "markdown",
   "id": "b1557654-fd86-48fb-b55f-f0115e546eea",
   "metadata": {},
   "source": [
    "<b>Según el resultado podemos ver que masculino, en primera clase sobrevivieron 0,416 frente a las 0,959 que fueron mujeres\n",
    "de segunda clase 0,666 fueron hombres frente a las 0,888 fueron mujeres y por último, la tercera clase sobrevivio\n",
    "0,40 hombres frente a las 0,60 mujeres.</b>"
   ]
  },
  {
   "cell_type": "code",
   "execution_count": 251,
   "id": "d9f6deb8-e7ba-466b-b090-d808400a3e5d",
   "metadata": {},
   "outputs": [
    {
     "data": {
      "image/png": "[encoded data removed]",
      "text/plain": [
       "<Figure size 640x480 with 2 Axes>"
      ]
     },
     "metadata": {},
     "output_type": "display_data"
    }
   ],
   "source": [
    "sns.heatmap(result, annot=True, cmap =sns.diverging_palette(20, 12, n=256), center=0.4)\n",
    "plt.show()"
   ]
  },
  {
   "cell_type": "markdown",
   "id": "ac526c9f-b31c-40fa-89ee-bc3d032ae8b7",
   "metadata": {},
   "source": [
    "# Entrena un algoritmo de Regresión Logística para que sea capaz de clasificar adecuadamente a los pasajeros entre los que sobrevivieron y no sobrevivieron (variable \"Survived\")"
   ]
  },
  {
   "cell_type": "markdown",
   "id": "8b6ffa97-2de6-42e9-bf4b-c2755f7f6297",
   "metadata": {},
   "source": [
    "<b>importamos las librerias necesarias</b>"
   ]
  },
  {
   "cell_type": "code",
   "execution_count": 302,
   "id": "d8222d81-59f6-4ad9-9f06-d4391488f8c4",
   "metadata": {},
   "outputs": [],
   "source": [
    "from sklearn.model_selection import train_test_split\n",
    "from sklearn.linear_model import LogisticRegression\n",
    "from sklearn.preprocessing import LabelEncoder\n",
    "from sklearn.preprocessing import StandardScaler"
   ]
  },
  {
   "cell_type": "markdown",
   "id": "b05f3819-334f-4a1a-9b55-a9b62d9b280f",
   "metadata": {},
   "source": [
    "<b>Escogemos las variables que tiene sentido usar como input al modelo</b>"
   ]
  },
  {
   "cell_type": "code",
   "execution_count": 303,
   "id": "1bff601e-b2f0-4c37-b235-2290c9740d4c",
   "metadata": {},
   "outputs": [],
   "source": [
    "Eje_x = db[[ 'Survived', 'Pclass','Age','SibSp','Parch','Fare']].copy(deep=True)"
   ]
  },
  {
   "cell_type": "markdown",
   "id": "537f4630-e341-4f97-b067-0c7a448e1e85",
   "metadata": {},
   "source": [
    "<b>Escogemos la variable que vamos usar para la predicción</b>"
   ]
  },
  {
   "cell_type": "code",
   "execution_count": 304,
   "id": "676d3f1e-3b04-44e0-88e6-4dbc133d16db",
   "metadata": {},
   "outputs": [],
   "source": [
    "Eje_y = db[[\"Survived\"]].copy(deep=True)"
   ]
  },
  {
   "cell_type": "markdown",
   "id": "2f4267ff-946f-4609-b5b9-152a83f55a7b",
   "metadata": {},
   "source": [
    "<b>Estandarizamos los valores para ponerlos comprendidos entre -1 y 1</b>"
   ]
  },
  {
   "cell_type": "markdown",
   "id": "93ba03d4-3272-4a7a-a55a-702c89c1170e",
   "metadata": {},
   "source": [
    "<b>Cogemos todas las columnas numéricas y dejamos fuera las que son type objeto.</b>"
   ]
  },
  {
   "cell_type": "code",
   "execution_count": 305,
   "id": "6be022eb-83d5-4ffb-a20c-f0ca1e0049fc",
   "metadata": {},
   "outputs": [],
   "source": [
    "numeric_var_list = ['Survived', 'Pclass','Age','SibSp','Parch','Fare']"
   ]
  },
  {
   "cell_type": "markdown",
   "id": "465773f3-9271-48b6-a897-d43dea70be33",
   "metadata": {},
   "source": [
    "<b>Creamos el eje de las X comprendido entre -1 y 1 con una lista de variables que ya mencionamos antes</b>"
   ]
  },
  {
   "cell_type": "code",
   "execution_count": 306,
   "id": "4c148b20-7c1a-4526-b9b3-11064e860367",
   "metadata": {},
   "outputs": [],
   "source": [
    "scaler_dict = {}\n",
    "for num_var in numeric_var_list:\n",
    "    se = StandardScaler()\n",
    "    Eje_x[num_var] = se.fit_transform(Eje_x[num_var].to_numpy().reshape(-1,1))\n",
    "    scaler_dict[num_var] = se"
   ]
  },
  {
   "cell_type": "markdown",
   "id": "7dd4fa68-050c-44e6-b0e3-fcd8cefed3cb",
   "metadata": {},
   "source": [
    "<b>Obtenemos la siguiente gráfica donde tras estandarizar los valores todos estan entre -1 y 1</b>"
   ]
  },
  {
   "cell_type": "code",
   "execution_count": 307,
   "id": "80e3d03b-7a24-414d-aeaa-5259dfd8cb60",
   "metadata": {},
   "outputs": [
    {
     "data": {
      "text/html": [
       "<div>\n",
       "<style scoped>\n",
       "    .dataframe tbody tr th:only-of-type {\n",
       "        vertical-align: middle;\n",
       "    }\n",
       "\n",
       "    .dataframe tbody tr th {\n",
       "        vertical-align: top;\n",
       "    }\n",
       "\n",
       "    .dataframe thead th {\n",
       "        text-align: right;\n",
       "    }\n",
       "</style>\n",
       "<table border=\"1\" class=\"dataframe\">\n",
       "  <thead>\n",
       "    <tr style=\"text-align: right;\">\n",
       "      <th></th>\n",
       "      <th>Survived</th>\n",
       "      <th>Pclass</th>\n",
       "      <th>Age</th>\n",
       "      <th>SibSp</th>\n",
       "      <th>Parch</th>\n",
       "      <th>Fare</th>\n",
       "    </tr>\n",
       "    <tr>\n",
       "      <th>PassengerId</th>\n",
       "      <th></th>\n",
       "      <th></th>\n",
       "      <th></th>\n",
       "      <th></th>\n",
       "      <th></th>\n",
       "      <th></th>\n",
       "    </tr>\n",
       "  </thead>\n",
       "  <tbody>\n",
       "    <tr>\n",
       "      <th>2</th>\n",
       "      <td>0.698430</td>\n",
       "      <td>-0.372256</td>\n",
       "      <td>0.149065</td>\n",
       "      <td>0.833628</td>\n",
       "      <td>-0.631730</td>\n",
       "      <td>-0.097180</td>\n",
       "    </tr>\n",
       "    <tr>\n",
       "      <th>4</th>\n",
       "      <td>0.698430</td>\n",
       "      <td>-0.372256</td>\n",
       "      <td>-0.043230</td>\n",
       "      <td>0.833628</td>\n",
       "      <td>-0.631730</td>\n",
       "      <td>-0.335997</td>\n",
       "    </tr>\n",
       "    <tr>\n",
       "      <th>7</th>\n",
       "      <td>-1.431782</td>\n",
       "      <td>-0.372256</td>\n",
       "      <td>1.174636</td>\n",
       "      <td>-0.723044</td>\n",
       "      <td>-0.631730</td>\n",
       "      <td>-0.352250</td>\n",
       "    </tr>\n",
       "    <tr>\n",
       "      <th>11</th>\n",
       "      <td>0.698430</td>\n",
       "      <td>3.520480</td>\n",
       "      <td>-2.030273</td>\n",
       "      <td>0.833628</td>\n",
       "      <td>0.697081</td>\n",
       "      <td>-0.814070</td>\n",
       "    </tr>\n",
       "    <tr>\n",
       "      <th>12</th>\n",
       "      <td>0.698430</td>\n",
       "      <td>-0.372256</td>\n",
       "      <td>1.431029</td>\n",
       "      <td>-0.723044</td>\n",
       "      <td>-0.631730</td>\n",
       "      <td>-0.684702</td>\n",
       "    </tr>\n",
       "    <tr>\n",
       "      <th>...</th>\n",
       "      <td>...</td>\n",
       "      <td>...</td>\n",
       "      <td>...</td>\n",
       "      <td>...</td>\n",
       "      <td>...</td>\n",
       "      <td>...</td>\n",
       "    </tr>\n",
       "    <tr>\n",
       "      <th>872</th>\n",
       "      <td>0.698430</td>\n",
       "      <td>-0.372256</td>\n",
       "      <td>0.725949</td>\n",
       "      <td>0.833628</td>\n",
       "      <td>0.697081</td>\n",
       "      <td>-0.343166</td>\n",
       "    </tr>\n",
       "    <tr>\n",
       "      <th>873</th>\n",
       "      <td>-1.431782</td>\n",
       "      <td>-0.372256</td>\n",
       "      <td>-0.171426</td>\n",
       "      <td>-0.723044</td>\n",
       "      <td>-0.631730</td>\n",
       "      <td>-0.967737</td>\n",
       "    </tr>\n",
       "    <tr>\n",
       "      <th>880</th>\n",
       "      <td>0.698430</td>\n",
       "      <td>-0.372256</td>\n",
       "      <td>1.302832</td>\n",
       "      <td>-0.723044</td>\n",
       "      <td>0.697081</td>\n",
       "      <td>0.058785</td>\n",
       "    </tr>\n",
       "    <tr>\n",
       "      <th>888</th>\n",
       "      <td>0.698430</td>\n",
       "      <td>-0.372256</td>\n",
       "      <td>-1.068801</td>\n",
       "      <td>-0.723044</td>\n",
       "      <td>-0.631730</td>\n",
       "      <td>-0.639390</td>\n",
       "    </tr>\n",
       "    <tr>\n",
       "      <th>890</th>\n",
       "      <td>0.698430</td>\n",
       "      <td>-0.372256</td>\n",
       "      <td>-0.620113</td>\n",
       "      <td>-0.723044</td>\n",
       "      <td>-0.631730</td>\n",
       "      <td>-0.639390</td>\n",
       "    </tr>\n",
       "  </tbody>\n",
       "</table>\n",
       "<p>183 rows × 6 columns</p>\n",
       "</div>"
      ],
      "text/plain": [
       "             Survived    Pclass       Age     SibSp     Parch      Fare\n",
       "PassengerId                                                            \n",
       "2            0.698430 -0.372256  0.149065  0.833628 -0.631730 -0.097180\n",
       "4            0.698430 -0.372256 -0.043230  0.833628 -0.631730 -0.335997\n",
       "7           -1.431782 -0.372256  1.174636 -0.723044 -0.631730 -0.352250\n",
       "11           0.698430  3.520480 -2.030273  0.833628  0.697081 -0.814070\n",
       "12           0.698430 -0.372256  1.431029 -0.723044 -0.631730 -0.684702\n",
       "...               ...       ...       ...       ...       ...       ...\n",
       "872          0.698430 -0.372256  0.725949  0.833628  0.697081 -0.343166\n",
       "873         -1.431782 -0.372256 -0.171426 -0.723044 -0.631730 -0.967737\n",
       "880          0.698430 -0.372256  1.302832 -0.723044  0.697081  0.058785\n",
       "888          0.698430 -0.372256 -1.068801 -0.723044 -0.631730 -0.639390\n",
       "890          0.698430 -0.372256 -0.620113 -0.723044 -0.631730 -0.639390\n",
       "\n",
       "[183 rows x 6 columns]"
      ]
     },
     "execution_count": 307,
     "metadata": {},
     "output_type": "execute_result"
    }
   ],
   "source": [
    "Eje_x"
   ]
  },
  {
   "cell_type": "markdown",
   "id": "1c290212-63fc-40a0-b541-914038f977f7",
   "metadata": {},
   "source": [
    "<b>Ahora creamos el eje de las Y, donde cogeremos la variable Survived.</b>"
   ]
  },
  {
   "cell_type": "code",
   "execution_count": 308,
   "id": "cc01b5fd-b043-4b10-b58a-7912cddacbd5",
   "metadata": {},
   "outputs": [],
   "source": [
    "Datos_for_corr = Eje_x.copy()\n",
    "Datos_for_corr[\"Survived\"] = Eje_y"
   ]
  },
  {
   "cell_type": "markdown",
   "id": "1dca4102-5f2b-4ee2-bce4-786ab542b46b",
   "metadata": {},
   "source": [
    "<b>creamos la correlación entre las variables.</b>"
   ]
  },
  {
   "cell_type": "code",
   "execution_count": 309,
   "id": "e1343cfb-6dda-4b4c-bc3e-18aedf2fee1e",
   "metadata": {},
   "outputs": [],
   "source": [
    "corr_matrix = Datos_for_corr.corr()"
   ]
  },
  {
   "cell_type": "markdown",
   "id": "2a3bd56c-f878-4975-bd7c-fa75bddd154b",
   "metadata": {},
   "source": [
    "<b>Creamos un mapa de calor, con ambas ejes, dando el siguiente resultado</b>"
   ]
  },
  {
   "cell_type": "code",
   "execution_count": 325,
   "id": "3dd88145-39aa-4999-9192-e339b9f348fb",
   "metadata": {},
   "outputs": [
    {
     "data": {
      "image/png": "[encoded data removed]",
      "text/plain": [
       "<Figure size 640x480 with 2 Axes>"
      ]
     },
     "metadata": {},
     "output_type": "display_data"
    }
   ],
   "source": [
    "sns.heatmap(corr_matrix, annot=True, cmap = sns.diverging_palette(20, 12, n=256), center = -0.2)\n",
    "plt.show()"
   ]
  },
  {
   "cell_type": "markdown",
   "id": "030cd290-901d-4770-b5a0-8ed0ffabce42",
   "metadata": {},
   "source": [
    "<b>Ahora creamos las variables de entrenamiento y predicción</b>"
   ]
  },
  {
   "cell_type": "code",
   "execution_count": 327,
   "id": "4cd9c880-1628-4f68-a641-68001ada82ff",
   "metadata": {},
   "outputs": [],
   "source": [
    "Eje_x_train, Eje_x_test, Eje_y_train, Eje_y_test = train_test_split(Eje_x, Eje_y, test_size=0.2)"
   ]
  },
  {
   "cell_type": "markdown",
   "id": "1426e5c0-fc55-4881-be69-4fc74261a706",
   "metadata": {},
   "source": [
    "<b>Usaremos la Logistica de Regresión</b>"
   ]
  },
  {
   "cell_type": "code",
   "execution_count": 328,
   "id": "6371d5c3-f91c-4afd-bc23-7951925ebfb0",
   "metadata": {},
   "outputs": [],
   "source": [
    "logisticRegr = LogisticRegression()"
   ]
  },
  {
   "cell_type": "code",
   "execution_count": 339,
   "id": "9b003113-183e-451d-9a49-e613197c90f4",
   "metadata": {},
   "outputs": [
    {
     "data": {
      "text/html": [
       "<style>#sk-container-id-6 {color: black;background-color: white;}#sk-container-id-6 pre{padding: 0;}#sk-container-id-6 div.sk-toggleable {background-color: white;}#sk-container-id-6 label.sk-toggleable__label {cursor: pointer;display: block;width: 100%;margin-bottom: 0;padding: 0.3em;box-sizing: border-box;text-align: center;}#sk-container-id-6 label.sk-toggleable__label-arrow:before {content: \"▸\";float: left;margin-right: 0.25em;color: #696969;}#sk-container-id-6 label.sk-toggleable__label-arrow:hover:before {color: black;}#sk-container-id-6 div.sk-estimator:hover label.sk-toggleable__label-arrow:before {color: black;}#sk-container-id-6 div.sk-toggleable__content {max-height: 0;max-width: 0;overflow: hidden;text-align: left;background-color: #f0f8ff;}#sk-container-id-6 div.sk-toggleable__content pre {margin: 0.2em;color: black;border-radius: 0.25em;background-color: #f0f8ff;}#sk-container-id-6 input.sk-toggleable__control:checked~div.sk-toggleable__content {max-height: 200px;max-width: 100%;overflow: auto;}#sk-container-id-6 input.sk-toggleable__control:checked~label.sk-toggleable__label-arrow:before {content: \"▾\";}#sk-container-id-6 div.sk-estimator input.sk-toggleable__control:checked~label.sk-toggleable__label {background-color: #d4ebff;}#sk-container-id-6 div.sk-label input.sk-toggleable__control:checked~label.sk-toggleable__label {background-color: #d4ebff;}#sk-container-id-6 input.sk-hidden--visually {border: 0;clip: rect(1px 1px 1px 1px);clip: rect(1px, 1px, 1px, 1px);height: 1px;margin: -1px;overflow: hidden;padding: 0;position: absolute;width: 1px;}#sk-container-id-6 div.sk-estimator {font-family: monospace;background-color: #f0f8ff;border: 1px dotted black;border-radius: 0.25em;box-sizing: border-box;margin-bottom: 0.5em;}#sk-container-id-6 div.sk-estimator:hover {background-color: #d4ebff;}#sk-container-id-6 div.sk-parallel-item::after {content: \"\";width: 100%;border-bottom: 1px solid gray;flex-grow: 1;}#sk-container-id-6 div.sk-label:hover label.sk-toggleable__label {background-color: #d4ebff;}#sk-container-id-6 div.sk-serial::before {content: \"\";position: absolute;border-left: 1px solid gray;box-sizing: border-box;top: 0;bottom: 0;left: 50%;z-index: 0;}#sk-container-id-6 div.sk-serial {display: flex;flex-direction: column;align-items: center;background-color: white;padding-right: 0.2em;padding-left: 0.2em;position: relative;}#sk-container-id-6 div.sk-item {position: relative;z-index: 1;}#sk-container-id-6 div.sk-parallel {display: flex;align-items: stretch;justify-content: center;background-color: white;position: relative;}#sk-container-id-6 div.sk-item::before, #sk-container-id-6 div.sk-parallel-item::before {content: \"\";position: absolute;border-left: 1px solid gray;box-sizing: border-box;top: 0;bottom: 0;left: 50%;z-index: -1;}#sk-container-id-6 div.sk-parallel-item {display: flex;flex-direction: column;z-index: 1;position: relative;background-color: white;}#sk-container-id-6 div.sk-parallel-item:first-child::after {align-self: flex-end;width: 50%;}#sk-container-id-6 div.sk-parallel-item:last-child::after {align-self: flex-start;width: 50%;}#sk-container-id-6 div.sk-parallel-item:only-child::after {width: 0;}#sk-container-id-6 div.sk-dashed-wrapped {border: 1px dashed gray;margin: 0 0.4em 0.5em 0.4em;box-sizing: border-box;padding-bottom: 0.4em;background-color: white;}#sk-container-id-6 div.sk-label label {font-family: monospace;font-weight: bold;display: inline-block;line-height: 1.2em;}#sk-container-id-6 div.sk-label-container {text-align: center;}#sk-container-id-6 div.sk-container {/* jupyter's `normalize.less` sets `[hidden] { display: none; }` but bootstrap.min.css set `[hidden] { display: none !important; }` so we also need the `!important` here to be able to override the default hidden behavior on the sphinx rendered scikit-learn.org. See: https://github.com/scikit-learn/scikit-learn/issues/21755 */display: inline-block !important;position: relative;}#sk-container-id-6 div.sk-text-repr-fallback {display: none;}</style><div id=\"sk-container-id-6\" class=\"sk-top-container\"><div class=\"sk-text-repr-fallback\"><pre>LogisticRegression()</pre><b>In a Jupyter environment, please rerun this cell to show the HTML representation or trust the notebook. <br />On GitHub, the HTML representation is unable to render, please try loading this page with nbviewer.org.</b></div><div class=\"sk-container\" hidden><div class=\"sk-item\"><div class=\"sk-estimator sk-toggleable\"><input class=\"sk-toggleable__control sk-hidden--visually\" id=\"sk-estimator-id-6\" type=\"checkbox\" checked><label for=\"sk-estimator-id-6\" class=\"sk-toggleable__label sk-toggleable__label-arrow\">LogisticRegression</label><div class=\"sk-toggleable__content\"><pre>LogisticRegression()</pre></div></div></div></div></div>"
      ],
      "text/plain": [
       "LogisticRegression()"
      ]
     },
     "execution_count": 339,
     "metadata": {},
     "output_type": "execute_result"
    }
   ],
   "source": [
    "logisticRegr.fit(Eje_x_train, Eje_y_train.values.ravel())"
   ]
  },
  {
   "cell_type": "markdown",
   "id": "b1831c5c-10c4-4787-a927-8a1c4f9e0e58",
   "metadata": {},
   "source": [
    "<b>Ahora creamos una funcion para que la prediccion sea lo mas exacta posible</b>"
   ]
  },
  {
   "cell_type": "code",
   "execution_count": 340,
   "id": "55bd9f2e-8201-4d0d-864c-f9a51bf957e6",
   "metadata": {},
   "outputs": [],
   "source": [
    "def accuracy(ground_truth, predictions):\n",
    "    comp = list(ground_truth == predictions)\n",
    "    n_true = comp.count(True)\n",
    "    n_false = comp.count(False)\n",
    "    return n_true/(n_true + n_false)"
   ]
  },
  {
   "cell_type": "code",
   "execution_count": 331,
   "id": "036debe6-ef29-4a6d-9490-43fa7675c5dd",
   "metadata": {},
   "outputs": [],
   "source": [
    "predictions_train = logisticRegr.predict(Eje_x_train)\n",
    "ground_truth_train = Eje_y_train.to_numpy().reshape(-1)"
   ]
  },
  {
   "cell_type": "markdown",
   "id": "414864dd-2918-44af-a402-c73105d6fc9d",
   "metadata": {},
   "source": [
    "<b>Según este algoritmo nos indica que tenemos un 100% de acierto para el entrenamiento</b>"
   ]
  },
  {
   "cell_type": "code",
   "execution_count": 332,
   "id": "bcc7efb3-70ea-4aa8-8572-ad6bc03a2014",
   "metadata": {},
   "outputs": [
    {
     "data": {
      "text/plain": [
       "1.0"
      ]
     },
     "execution_count": 332,
     "metadata": {},
     "output_type": "execute_result"
    }
   ],
   "source": [
    "accuracy(ground_truth_train, predictions_train)"
   ]
  },
  {
   "cell_type": "code",
   "execution_count": 333,
   "id": "96236d26-4ca6-4f41-b1d9-2016be6d9f86",
   "metadata": {},
   "outputs": [],
   "source": [
    "predictions_test = logisticRegr.predict(Eje_x_test)\n",
    "ground_truth_test = Eje_y_test.to_numpy().reshape(-1)"
   ]
  },
  {
   "cell_type": "markdown",
   "id": "eabc37e4-2205-4e3f-91f3-30a65b4fd08b",
   "metadata": {},
   "source": [
    "<b>Según el resultado obtenido en la métrica de validación tenemos un 100% de predicción,\n",
    "siendo un resultado muy bueno</b>"
   ]
  },
  {
   "cell_type": "code",
   "execution_count": 334,
   "id": "f8f592ca-86eb-45e5-b54a-ed9b862cc9ed",
   "metadata": {},
   "outputs": [
    {
     "data": {
      "text/plain": [
       "1.0"
      ]
     },
     "execution_count": 334,
     "metadata": {},
     "output_type": "execute_result"
    }
   ],
   "source": [
    "accuracy(ground_truth_test, predictions_test)"
   ]
  }
 ],
 "metadata": {
  "kernelspec": {
   "display_name": "Python 3 (ipykernel)",
   "language": "python",
   "name": "python3"
  },
  "language_info": {
   "codemirror_mode": {
    "name": "ipython",
    "version": 3
   },
   "file_extension": ".py",
   "mimetype": "text/x-python",
   "name": "python",
   "nbconvert_exporter": "python",
   "pygments_lexer": "ipython3",
   "version": "3.11.7"
  }
 },
 "nbformat": 4,
 "nbformat_minor": 5
}
